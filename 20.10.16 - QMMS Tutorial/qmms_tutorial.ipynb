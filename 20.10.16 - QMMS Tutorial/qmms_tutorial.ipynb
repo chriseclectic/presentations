{
 "cells": [
  {
   "cell_type": "markdown",
   "metadata": {
    "slideshow": {
     "slide_type": "slide"
    }
   },
   "source": [
    "# Qiskit Workshop: graph state fidelity estimation\n",
    "\n",
    "### Quantum Matters in Materials Science\n",
    "\n",
    "* Christopher J. Wood (cjwood@us.ibm.com)\n",
    "* IBM Quantum, T. J. Watson Research Center, Yorktown Heights, USA"
   ]
  },
  {
   "cell_type": "markdown",
   "metadata": {
    "slideshow": {
     "slide_type": "slide"
    }
   },
   "source": [
    "## Outline\n",
    "\n",
    "In this notebook we will demonstrate some examples of noise characterization and error mitigation for near-term quantum computers using the `qiskit-ignis` library applied to state fidelity estimation.\n",
    "\n",
    "In particular we will demonstrate\n",
    "\n",
    "* Quantum state tomography\n",
    "* Measurement error characterization\n",
    "* Direct fidelity estimation of stabilizer states\n",
    "* Measurement error mitigation"
   ]
  },
  {
   "cell_type": "code",
   "execution_count": 1,
   "metadata": {
    "slideshow": {
     "slide_type": "skip"
    }
   },
   "outputs": [],
   "source": [
    "# Disable python parallelization since it causes issues on my laptop\n",
    "import os\n",
    "os.environ['QISKIT_IN_PARALLEL'] = 'TRUE'"
   ]
  },
  {
   "cell_type": "markdown",
   "metadata": {
    "slideshow": {
     "slide_type": "slide"
    }
   },
   "source": [
    "### Graph state circuit\n",
    "\n",
    "For an example we will estimate the fidelity of preparing a 4-qubit entangled graph state.\n",
    "\n",
    "We can generate a graph state circuit using the Qiskit circuit library"
   ]
  },
  {
   "cell_type": "code",
   "execution_count": 2,
   "metadata": {
    "slideshow": {
     "slide_type": "-"
    }
   },
   "outputs": [],
   "source": [
    "import qiskit\n",
    "from qiskit.circuit.library import GraphState\n",
    "\n",
    "# 4-qubit graph adjacency matrix\n",
    "adjmat = [[0, 1, 0, 0],\n",
    "          [1, 0, 1, 1],\n",
    "          [0, 1, 0, 0],\n",
    "          [0, 1, 0, 0]]\n",
    "\n",
    "# Graph state circuit\n",
    "state_circuit = GraphState(adjmat)"
   ]
  },
  {
   "cell_type": "code",
   "execution_count": 3,
   "metadata": {
    "slideshow": {
     "slide_type": "slide"
    }
   },
   "outputs": [
    {
     "data": {
      "image/png": "[encoded data removed]",
      "text/plain": [
       "<Figure size 327.397x264.88 with 1 Axes>"
      ]
     },
     "execution_count": 3,
     "metadata": {},
     "output_type": "execute_result"
    }
   ],
   "source": [
    "# Plot\n",
    "state_circuit.draw('mpl')"
   ]
  },
  {
   "cell_type": "markdown",
   "metadata": {
    "slideshow": {
     "slide_type": "slide"
    }
   },
   "source": [
    "### Exact output statevector\n",
    "\n",
    "Next we can compute the exact output state for this circuit by performing a statevector simulation with the `Statevector` class"
   ]
  },
  {
   "cell_type": "code",
   "execution_count": 4,
   "metadata": {},
   "outputs": [
    {
     "name": "stdout",
     "output_type": "stream",
     "text": [
      "Statevector([ 0.25+0.j,  0.25+0.j,  0.25+0.j, -0.25+0.j,  0.25+0.j,\n",
      "              0.25+0.j, -0.25+0.j,  0.25+0.j,  0.25+0.j,  0.25+0.j,\n",
      "             -0.25+0.j,  0.25+0.j,  0.25+0.j,  0.25+0.j,  0.25+0.j,\n",
      "             -0.25+0.j],\n",
      "            dims=(2, 2, 2, 2))\n"
     ]
    }
   ],
   "source": [
    "import qiskit.quantum_info as qi\n",
    "\n",
    "# Simulate output state of circuit\n",
    "target_state = qi.Statevector.from_instruction(state_circuit)\n",
    "\n",
    "print(target_state)"
   ]
  },
  {
   "cell_type": "markdown",
   "metadata": {
    "slideshow": {
     "slide_type": "slide"
    }
   },
   "source": [
    "### Computing state fidelity\n",
    "\n",
    "When executing the preparation circuit on a real device the gates will have errors that lead to a noisy state $\\rho$ being prepared.\n",
    "\n",
    "We can compare the overall quality of the output state to the ideal target by computing the *quantum state fidelity* \n",
    "$$F(\\rho, |\\psi\\rangle) = \\langle\\psi|\\rho|\\psi\\rangle$$\n",
    "\n",
    "Note that iff the target state is itself a density matrix $\\tau$, the state fidelity is given by\n",
    "$$F(\\rho, \\tau) = \\mbox{Tr}\\left[\\sqrt{\\sqrt{\\tau}\\rho\\sqrt{\\tau}}\\right]^2$$"
   ]
  },
  {
   "cell_type": "markdown",
   "metadata": {
    "slideshow": {
     "slide_type": "slide"
    }
   },
   "source": [
    "### Adding simulated noise\n",
    "\n",
    "We can simulate noisy state preparation under a simplified basic device noise model"
   ]
  },
  {
   "cell_type": "code",
   "execution_count": 5,
   "metadata": {},
   "outputs": [
    {
     "name": "stdout",
     "output_type": "stream",
     "text": [
      "NoiseModel:\n",
      "  Basis gates: ['cx', 'id', 'u2', 'u3']\n",
      "  Instructions with noise: ['measure', 'cx', 'u2', 'u3', 'id']\n",
      "  Qubits with noise: [0, 1, 2, 3, 4]\n",
      "  Specific qubit errors: [('id', [0]), ('id', [1]), ('id', [2]), ('id', [3]), ('id', [4]), ('u2', [0]), ('u2', [1]), ('u2', [2]), ('u2', [3]), ('u2', [4]), ('u3', [0]), ('u3', [1]), ('u3', [2]), ('u3', [3]), ('u3', [4]), ('cx', [0, 1]), ('cx', [1, 0]), ('cx', [1, 2]), ('cx', [1, 3]), ('cx', [2, 1]), ('cx', [3, 1]), ('cx', [3, 4]), ('cx', [4, 3]), ('measure', [0]), ('measure', [1]), ('measure', [2]), ('measure', [3]), ('measure', [4])]\n"
     ]
    }
   ],
   "source": [
    "from qiskit.test.mock import FakeVigo\n",
    "from qiskit.providers.aer.noise import NoiseModel\n",
    "\n",
    "# Construct a noise model from saved backend properties of an IBMQ device\n",
    "backend = FakeVigo()\n",
    "noise_model = NoiseModel.from_backend(backend)\n",
    "print(noise_model)"
   ]
  },
  {
   "cell_type": "markdown",
   "metadata": {
    "slideshow": {
     "slide_type": "slide"
    }
   },
   "source": [
    "We can visualize the gate error and readout error parameters used in the noise model"
   ]
  },
  {
   "cell_type": "code",
   "execution_count": 6,
   "metadata": {},
   "outputs": [
    {
     "data": {
      "image/png": "[encoded data removed]",
      "text/plain": [
       "<Figure size 864x648 with 5 Axes>"
      ]
     },
     "execution_count": 6,
     "metadata": {},
     "output_type": "execute_result"
    }
   ],
   "source": [
    "from qiskit.visualization import plot_error_map\n",
    "\n",
    "plot_error_map(backend)"
   ]
  },
  {
   "cell_type": "markdown",
   "metadata": {
    "slideshow": {
     "slide_type": "slide"
    }
   },
   "source": [
    "### Transpiling circuit to basis gates\n",
    "\n",
    "To simulate the effect of errors we first transpile our circuit into the basis gate of the target device"
   ]
  },
  {
   "cell_type": "code",
   "execution_count": 7,
   "metadata": {
    "slideshow": {
     "slide_type": "-"
    }
   },
   "outputs": [
    {
     "data": {
      "image/png": "[encoded data removed]",
      "text/plain": [
       "<Figure size 507.997x264.88 with 1 Axes>"
      ]
     },
     "execution_count": 7,
     "metadata": {},
     "output_type": "execute_result"
    }
   ],
   "source": [
    "# Transpile circuit for backend\n",
    "transpiled = qiskit.transpile(state_circuit, basis_gates=noise_model.basis_gates)\n",
    "transpiled.draw('mpl')"
   ]
  },
  {
   "cell_type": "markdown",
   "metadata": {
    "slideshow": {
     "slide_type": "slide"
    }
   },
   "source": [
    "### Inserting quantum errors for simulation\n",
    "\n",
    "Following this we can insert the error terms into the circuit as non-unitary quantum error instructions"
   ]
  },
  {
   "cell_type": "code",
   "execution_count": 8,
   "metadata": {
    "slideshow": {
     "slide_type": "-"
    }
   },
   "outputs": [
    {
     "data": {
      "image/png": "[encoded data removed]",
      "text/plain": [
       "<Figure size 1350.8x264.88 with 1 Axes>"
      ]
     },
     "execution_count": 8,
     "metadata": {},
     "output_type": "execute_result"
    }
   ],
   "source": [
    "from qiskit.providers.aer.utils import insert_noise\n",
    "\n",
    "# Insert noise into transpiled circuit\n",
    "state_circuit_noise = insert_noise(transpiled, noise_model)\n",
    "state_circuit_noise.draw('mpl')"
   ]
  },
  {
   "cell_type": "markdown",
   "metadata": {
    "slideshow": {
     "slide_type": "slide"
    }
   },
   "source": [
    "### Simulating final noisy density matrix\n",
    "\n",
    "Finally we can use this noisy circuit to compute the output density matrix and $F$ under this noise model"
   ]
  },
  {
   "cell_type": "code",
   "execution_count": 9,
   "metadata": {},
   "outputs": [
    {
     "name": "stdout",
     "output_type": "stream",
     "text": [
      "F = 0.953\n"
     ]
    }
   ],
   "source": [
    "# Compute noisy density matrix\n",
    "rho_noise = qi.DensityMatrix.from_instruction(state_circuit_noise)\n",
    "\n",
    "# Compute fideilty of noise density matrix with the ideal state\n",
    "F = qi.state_fidelity(rho_noise, target_state)\n",
    "\n",
    "print('F = {:.3f}'.format(F))"
   ]
  },
  {
   "cell_type": "markdown",
   "metadata": {
    "slideshow": {
     "slide_type": "slide"
    }
   },
   "source": [
    "## Experimental fidelity estimation\n",
    "\n",
    "For a real quantum computer we cannot compute the exact final density matrix so we have to estimate fidelity through a measurement protocol.\n",
    "\n"
   ]
  },
  {
   "cell_type": "markdown",
   "metadata": {
    "slideshow": {
     "slide_type": "fragment"
    }
   },
   "source": [
    "### Quantum State Tomography\n",
    "\n",
    "For general states this is possible using *quantum state tomography*, which is a proceedure for reconstructing an unknown density matrix from noisy measurements. This requires estimating at least $4^n$ probabilities, which can be obtained in $3^n$ Pauli basis measuremens. "
   ]
  },
  {
   "cell_type": "markdown",
   "metadata": {
    "slideshow": {
     "slide_type": "slide"
    }
   },
   "source": [
    "We now demonstrate how to run a quantum state tomography experiment using Qiskit.\n",
    "\n",
    "This is done using the `tomography` module of `qiskit-ignis`."
   ]
  },
  {
   "cell_type": "code",
   "execution_count": 10,
   "metadata": {
    "slideshow": {
     "slide_type": "-"
    }
   },
   "outputs": [],
   "source": [
    "import qiskit.ignis.verification.tomography as tomo\n",
    "\n",
    "# Generate tomography measurement circuits\n",
    "qubits = [0, 1, 2, 3]\n",
    "qst_circuits = tomo.state_tomography_circuits(state_circuit, qubits)"
   ]
  },
  {
   "cell_type": "code",
   "execution_count": 11,
   "metadata": {
    "slideshow": {
     "slide_type": "fragment"
    }
   },
   "outputs": [
    {
     "name": "stdout",
     "output_type": "stream",
     "text": [
      "Measurement basis: ('X', 'X', 'X', 'X')\n"
     ]
    },
    {
     "data": {
      "image/png": "[encoded data removed]",
      "text/plain": [
       "<Figure size 688.597x325.08 with 1 Axes>"
      ]
     },
     "execution_count": 11,
     "metadata": {},
     "output_type": "execute_result"
    }
   ],
   "source": [
    "# Example measurement circuit\n",
    "print('Measurement basis:', qst_circuits[0].name)\n",
    "qst_circuits[0].draw('mpl')"
   ]
  },
  {
   "cell_type": "markdown",
   "metadata": {
    "slideshow": {
     "slide_type": "slide"
    }
   },
   "source": [
    "### Executing the measurement circuits\n",
    "\n",
    "Next we execute the circuits on a backend. We will use a noisy simulator to mimic a real backend."
   ]
  },
  {
   "cell_type": "code",
   "execution_count": 12,
   "metadata": {},
   "outputs": [],
   "source": [
    "from qiskit.providers.aer import QasmSimulator\n",
    "\n",
    "# Generate mock backend noisy simulator\n",
    "simulator = QasmSimulator.from_backend(backend)\n",
    "\n",
    "# Run QST circuits\n",
    "result_qst = qiskit.execute(qst_circuits, simulator, shots=2048).result()"
   ]
  },
  {
   "cell_type": "markdown",
   "metadata": {
    "slideshow": {
     "slide_type": "slide"
    }
   },
   "source": [
    "### Fitting results\n",
    "\n",
    "To reconstruct the density matrix from the measurement count data we use the Ignis `StateTomographyFitter`"
   ]
  },
  {
   "cell_type": "code",
   "execution_count": 13,
   "metadata": {},
   "outputs": [],
   "source": [
    "# Fit density matrix\n",
    "fitter = tomo.StateTomographyFitter(result_qst, qst_circuits)\n",
    "rho_qst = qi.DensityMatrix(fitter.fit())"
   ]
  },
  {
   "cell_type": "code",
   "execution_count": 14,
   "metadata": {
    "slideshow": {
     "slide_type": "fragment"
    }
   },
   "outputs": [
    {
     "name": "stdout",
     "output_type": "stream",
     "text": [
      "F(QST) = 0.890\n",
      "F(Direct Simlated) = 0.953\n"
     ]
    }
   ],
   "source": [
    "# Compute fidelity\n",
    "F_qst = qi.state_fidelity(rho_qst, target_state)\n",
    "\n",
    "print('F(QST) = {:.3f}'.format(F_qst))\n",
    "print('F(Direct Simlated) = {:.3f}'.format(F))"
   ]
  },
  {
   "cell_type": "markdown",
   "metadata": {
    "slideshow": {
     "slide_type": "fragment"
    }
   },
   "source": [
    "Why is the QST fidelity estimate a lot lower than our simulated value? Because of state preparation and measurement error"
   ]
  },
  {
   "cell_type": "markdown",
   "metadata": {
    "slideshow": {
     "slide_type": "slide"
    }
   },
   "source": [
    "### Tomography fit fidelity\n",
    "Since we simulated the exact output density matrix we can also compute the theoretical *fit fidelity*\n",
    "\n",
    "This is the state fidelity of the QST density matrix with the noisy simulated density matrix."
   ]
  },
  {
   "cell_type": "code",
   "execution_count": 15,
   "metadata": {},
   "outputs": [
    {
     "name": "stdout",
     "output_type": "stream",
     "text": [
      "F(fit) = 0.965\n"
     ]
    }
   ],
   "source": [
    "F_fit = qi.state_fidelity(rho_qst, rho_noise)\n",
    "\n",
    "print('F(fit) = {:.3f}'.format(F_fit))"
   ]
  },
  {
   "cell_type": "markdown",
   "metadata": {
    "slideshow": {
     "slide_type": "slide"
    }
   },
   "source": [
    "## Measurement error\n",
    "\n",
    "In superconducting qubit systems measurement error is well described by a classical readout error. The true outcome of a measurement $j$ is incorrectly recorded as a value $i$ with probability $P(i|j)$."
   ]
  },
  {
   "cell_type": "markdown",
   "metadata": {
    "slideshow": {
     "slide_type": "fragment"
    }
   },
   "source": [
    "We can represent readout error as an *assignment matrix* $$A_{i,j}= P(i|j)$$"
   ]
  },
  {
   "cell_type": "markdown",
   "metadata": {
    "slideshow": {
     "slide_type": "fragment"
    }
   },
   "source": [
    "Typical values of the largest readout errors for single qubits can be up to 5-10% depending on the device"
   ]
  },
  {
   "cell_type": "markdown",
   "metadata": {
    "slideshow": {
     "slide_type": "slide"
    }
   },
   "source": [
    "### Measurement error characterization\n",
    "\n",
    "Measurement error characterization circuits can be generated using the `mitigation` module of *qiskit-ignis*"
   ]
  },
  {
   "cell_type": "code",
   "execution_count": 16,
   "metadata": {},
   "outputs": [],
   "source": [
    "import qiskit.ignis.mitigation as mit\n",
    "\n",
    "# Generate circuits\n",
    "cal_circuits, metadata = mit.expval_meas_mitigator_circuits(4, method='tensored')\n",
    "\n",
    "# Run calibration experiment\n",
    "result_cal = qiskit.execute(cal_circuits, simulator, shots=8192).result()\n",
    "\n",
    "# Mitigator\n",
    "mitigator = mit.ExpvalMeasMitigatorFitter(result_cal, metadata).fit()"
   ]
  },
  {
   "cell_type": "markdown",
   "metadata": {
    "slideshow": {
     "slide_type": "slide"
    }
   },
   "source": [
    "### Measurement error mitigator\n",
    "\n",
    "The `mitigator` object (used later to apply error mitigation) stores the assignment matrices for each qubit.\n",
    "\n",
    "We can extract the marginal single-qubit readout error probabilities from it as follows:"
   ]
  },
  {
   "cell_type": "code",
   "execution_count": 17,
   "metadata": {},
   "outputs": [
    {
     "name": "stdout",
     "output_type": "stream",
     "text": [
      "Single-qubit readout errors\n",
      "\n",
      "Q0: P(0|1) = 0.019, P(1|0) = 0.007\n",
      "Q1: P(0|1) = 0.030, P(1|0) = 0.008\n",
      "Q2: P(0|1) = 0.007, P(1|0) = 0.000\n",
      "Q3: P(0|1) = 0.021, P(1|0) = 0.005\n"
     ]
    }
   ],
   "source": [
    "amats_1q = [mitigator.assignment_matrix([i]) for i in range(4)]\n",
    "probs_meas0given1 = [round(a[0, 1], 3) for a in amats_1q]\n",
    "probs_meas1given0 = [round(a[1, 0], 3) for a in amats_1q]\n",
    "\n",
    "print('Single-qubit readout errors\\n')\n",
    "for i in range(4):\n",
    "    print('Q{}: P(0|1) = {:.3f}, P(1|0) = {:.3f}'.format(\n",
    "        i, probs_meas0given1[i], probs_meas1given0[i]))"
   ]
  },
  {
   "cell_type": "markdown",
   "metadata": {
    "slideshow": {
     "slide_type": "slide"
    }
   },
   "source": [
    "### Mitigating measurement error\n",
    "\n",
    "We now introduce measurement error mitigation based on the work in [arXiv:2006.14044](https://arxiv.org/abs/2006.14044)\n",
    "\n",
    "> S. Bravyi, et al. \"Mitigating measurement errors in multi-qubit experiments.\" arXiv:2006.14044 (2020).\n",
    "\n",
    "This mitigator can be used to apply mitigation to estimations of *expectation values*"
   ]
  },
  {
   "cell_type": "markdown",
   "metadata": {
    "slideshow": {
     "slide_type": "slide"
    }
   },
   "source": [
    "### Estimating expectation values\n",
    "\n",
    "Let $O=\\sum_i O_i |i\\rangle\\!\\langle i|$ be a diagonal operator with $|O_i| \\le 1$."
   ]
  },
  {
   "cell_type": "markdown",
   "metadata": {
    "slideshow": {
     "slide_type": "fragment"
    }
   },
   "source": [
    "\n",
    "The expectation value of $O$ can be estimated by measuring each qubit as\n",
    "$$\\langle O\\rangle = \\sum_i O_i p_i$$\n",
    "where $p_i = f_i/M$ is the estimated probability of output $i$ obtained from running $M$ shots."
   ]
  },
  {
   "cell_type": "markdown",
   "metadata": {
    "slideshow": {
     "slide_type": "fragment"
    }
   },
   "source": [
    "The error mitigated expectation value can be computed as\n",
    "$$\\langle O\\rangle_{\\mbox{mit}} = \\sum_i\\sum_j O_i (A^{-1})_{i,j} p_j $$"
   ]
  },
  {
   "cell_type": "markdown",
   "metadata": {
    "slideshow": {
     "slide_type": "slide"
    }
   },
   "source": [
    "To demonstrate this we will measure the expectation value of $XXZX$, one of the *stabilizers* of our graph state"
   ]
  },
  {
   "cell_type": "code",
   "execution_count": 18,
   "metadata": {},
   "outputs": [],
   "source": [
    "from qiskit.visualization import plot_histogram\n",
    "\n",
    "# Measure expecation value of XXZX\n",
    "meas_circuit = state_circuit.copy()\n",
    "meas_circuit.h([0, 2, 3])\n",
    "meas_circuit.measure_all()\n",
    "meas_circuit.draw('mpl')\n",
    "\n",
    "result_meas = qiskit.execute(meas_circuit, simulator, shots=8192).result()"
   ]
  },
  {
   "cell_type": "markdown",
   "metadata": {
    "slideshow": {
     "slide_type": "slide"
    }
   },
   "source": [
    "The resulting probability estimates from this experiment are"
   ]
  },
  {
   "cell_type": "code",
   "execution_count": 19,
   "metadata": {},
   "outputs": [
    {
     "data": {
      "image/png": "[encoded data removed]",
      "text/plain": [
       "<Figure size 504x360 with 1 Axes>"
      ]
     },
     "execution_count": 19,
     "metadata": {},
     "output_type": "execute_result"
    }
   ],
   "source": [
    "counts = result_meas.get_counts(0)\n",
    "plot_histogram(counts)"
   ]
  },
  {
   "cell_type": "markdown",
   "metadata": {
    "slideshow": {
     "slide_type": "slide"
    }
   },
   "source": [
    "We can compute the expectation value of this operator using the `expectation_value` function in the `mitigation` module"
   ]
  },
  {
   "cell_type": "code",
   "execution_count": 20,
   "metadata": {
    "slideshow": {
     "slide_type": "-"
    }
   },
   "outputs": [
    {
     "name": "stdout",
     "output_type": "stream",
     "text": [
      "Measured expectation value\n",
      "⟨XXZX⟩ = 0.859 ± 0.006\n"
     ]
    }
   ],
   "source": [
    "expval, stddev = mit.expectation_value(counts)\n",
    "\n",
    "print('Measured expectation value') \n",
    "print('⟨XXZX⟩ = {:.3f} \\u00B1 {:.3f}'.format(expval, stddev))"
   ]
  },
  {
   "cell_type": "markdown",
   "metadata": {
    "slideshow": {
     "slide_type": "slide"
    }
   },
   "source": [
    "To apply mitigation when computing the expectation value we use the `meas_mitigator` kwarg"
   ]
  },
  {
   "cell_type": "code",
   "execution_count": 21,
   "metadata": {},
   "outputs": [
    {
     "name": "stdout",
     "output_type": "stream",
     "text": [
      "Readout error mitigated expecation value\n",
      "⟨XXZX⟩ = 0.946 ± 0.006\n"
     ]
    }
   ],
   "source": [
    "expval_mit, stddev_mit = mit.expectation_value(counts, meas_mitigator=mitigator)\n",
    "\n",
    "print('Readout error mitigated expecation value')\n",
    "print('⟨XXZX⟩ = {:.3f} \\u00B1 {:.3f}'.format(expval_mit, stddev_mit))"
   ]
  },
  {
   "cell_type": "code",
   "execution_count": 22,
   "metadata": {
    "slideshow": {
     "slide_type": "fragment"
    }
   },
   "outputs": [
    {
     "name": "stdout",
     "output_type": "stream",
     "text": [
      "Non-mitigated expectation value\n",
      "⟨XXZX⟩ = 0.859 ± 0.006\n"
     ]
    }
   ],
   "source": [
    "print('Non-mitigated expectation value') \n",
    "print('⟨XXZX⟩ = {:.3f} \\u00B1 {:.3f}'.format(expval, stddev))"
   ]
  },
  {
   "cell_type": "markdown",
   "metadata": {
    "slideshow": {
     "slide_type": "slide"
    }
   },
   "source": [
    "## Direct Fidelity Estimation\n",
    "\n",
    "Now we demonstrate an another way to experimentally estimate the state fidelity of a graph state through direcet stabilizer measurements."
   ]
  },
  {
   "cell_type": "markdown",
   "metadata": {
    "slideshow": {
     "slide_type": "slide"
    }
   },
   "source": [
    "### Graph state fidelity\n",
    "\n",
    "Graph states are a type of stabilizer state. An $N$-qubit stabilizer state is uniqely described by the set of $2^N$ stabilizers$[S_i]$ which satisfy $S_i|\\psi\\rangle = |\\psi\\rangle$.\n",
    "\n",
    "\n",
    "The state fidelity of a noisy stabilizer state $\\rho$ is given by\n",
    "\n",
    "$$F = \\frac{1}{2^N}\\sum_{S_i \\in S} \\langle S_i \\rangle$$\n",
    "\n",
    "Where $\\langle S_i \\rangle \\equiv Tr[\\rho S_i]$ is the expectation value of the stabilizer of the ideal target."
   ]
  },
  {
   "cell_type": "markdown",
   "metadata": {
    "slideshow": {
     "slide_type": "slide"
    }
   },
   "source": [
    "### Computing graph state stabilizers \n",
    "\n",
    "Next we compute the stabilizer generators of the graph state by brute force"
   ]
  },
  {
   "cell_type": "code",
   "execution_count": 23,
   "metadata": {},
   "outputs": [],
   "source": [
    "def compute_stabilizer_group(state):\n",
    "    \"\"\"Compute the stabilizer group Paulis and coeffs\"\"\"\n",
    "    labels = []\n",
    "    for i in qi.pauli_basis(state.num_qubits):\n",
    "        val = round(qi.state_fidelity(i.to_matrix()[0], state, validate=False))\n",
    "        if val != 0:\n",
    "            label = i.to_labels()[0]\n",
    "            if val == 1:\n",
    "                label = '+' + label\n",
    "            else:\n",
    "                label = '-' + label\n",
    "            labels.append(label)\n",
    "    return labels"
   ]
  },
  {
   "cell_type": "code",
   "execution_count": 24,
   "metadata": {
    "slideshow": {
     "slide_type": "fragment"
    }
   },
   "outputs": [
    {
     "name": "stdout",
     "output_type": "stream",
     "text": [
      "['+IIII', '+IIZX', '+IXIX', '+IXZI', '+XIIX', '+XIZI', '+XXII', '+XXZX', '-YYXZ', '-YYYY', '-YZXY', '+YZYZ', '-ZYXY', '+ZYYZ', '+ZZXZ', '+ZZYY']\n"
     ]
    }
   ],
   "source": [
    "stabilizers = compute_stabilizer_group(target_state)\n",
    "print(stabilizers)"
   ]
  },
  {
   "cell_type": "markdown",
   "metadata": {
    "slideshow": {
     "slide_type": "slide"
    }
   },
   "source": [
    "### Generating stabilzier measurement circuits\n",
    "\n",
    "We write custom functions to generate stabilzier measurement circuits"
   ]
  },
  {
   "cell_type": "code",
   "execution_count": 25,
   "metadata": {
    "slideshow": {
     "slide_type": "subslide"
    }
   },
   "outputs": [],
   "source": [
    "def stabilizer_coeff_pauli(stabilizer):\n",
    "    \"\"\"Return the 1 or -1 coeff and Pauli label.\"\"\"\n",
    "    coeff = 1\n",
    "    pauli = coeff\n",
    "    if stabilizer[0] == '-':\n",
    "        coeff = -1\n",
    "    if stabilizer[0] in ['+', '-']:\n",
    "        pauli = stabilizer[1:]\n",
    "    else:\n",
    "        pauli = stabilizer\n",
    "    return coeff, pauli\n",
    "\n",
    "def stabilizer_measure_circuit(stabilizer, initial_circuit=None):\n",
    "    \"\"\"Return a stabilizer measurement cirucits.\"\"\"\n",
    "    _, pauli = stabilizer_coeff_pauli(stabilizer)\n",
    "    if initial_circuit is None:\n",
    "        circ = qiskit.QuantumCircuit(len(pauli))\n",
    "    else:\n",
    "        circ = initial_circuit.copy()\n",
    "    for i, s in enumerate(reversed(pauli)):\n",
    "        if s == 'X':\n",
    "            circ.h(i)\n",
    "        if s == 'Y':\n",
    "            circ.sdg(i)\n",
    "            circ.h(i)\n",
    "    circ.measure_all()\n",
    "    return circ"
   ]
  },
  {
   "cell_type": "markdown",
   "metadata": {
    "slideshow": {
     "slide_type": "slide"
    }
   },
   "source": [
    "### Running stabilzier measurement circuits\n",
    "\n",
    "We run our functions to generate the stabilizer measurement circuits and execute on a backend"
   ]
  },
  {
   "cell_type": "code",
   "execution_count": 26,
   "metadata": {},
   "outputs": [],
   "source": [
    "# Generate stabilizer circuits\n",
    "stab_circuits = [stabilizer_measure_circuit(s, state_circuit) for s in stabilizers]\n",
    "\n",
    "# Run stabilizer circuits\n",
    "result_stab = qiskit.execute(stab_circuits, simulator).result()"
   ]
  },
  {
   "cell_type": "markdown",
   "metadata": {
    "slideshow": {
     "slide_type": "slide"
    }
   },
   "source": [
    "### Comuting stabilizer expectation values\n",
    "\n",
    "Next we compute the expectation values for the stabilizers from the result count data"
   ]
  },
  {
   "cell_type": "code",
   "execution_count": 27,
   "metadata": {
    "slideshow": {
     "slide_type": "subslide"
    }
   },
   "outputs": [],
   "source": [
    "import numpy as np\n",
    "\n",
    "def stabilizer_measure_diagonal(stabilizer):\n",
    "    \"\"\"Return the diagonal vector for a stabilizer measurement.\"\"\"\n",
    "    coeff, pauli = stabilizer_coeff_pauli(stabilizer)\n",
    "    diag = np.array([1])\n",
    "    for s in reversed(pauli):\n",
    "        if s == 'I':\n",
    "            tmp = np.array([1, 1])\n",
    "        else:\n",
    "            tmp = np.array([1, -1])\n",
    "        diag = np.kron(tmp, diag)\n",
    "    return coeff * diag\n",
    "\n",
    "def stabilizer_expvals(result, stabilizers, meas_mitigator=None):\n",
    "    \"\"\"Compute expectation values from stabilizer measurement results.\"\"\"\n",
    "    expvals = []\n",
    "    stddevs = []\n",
    "    for i, stab in enumerate(stabilizers):\n",
    "        expval, stddev = mit.expectation_value(\n",
    "            result.get_counts(i),\n",
    "            diagonal=stabilizer_measure_diagonal(stab),\n",
    "            meas_mitigator=meas_mitigator)\n",
    "        expvals.append(expval)\n",
    "        stddevs.append(stddev)\n",
    "    return np.array(expvals), np.array(stddevs)"
   ]
  },
  {
   "cell_type": "code",
   "execution_count": 28,
   "metadata": {
    "slideshow": {
     "slide_type": "subslide"
    }
   },
   "outputs": [],
   "source": [
    "def stabilizer_fidelity(expvals, stddevs=None):\n",
    "    \"\"\"Compute stabilizer state fidelity from stabilizer expvals.\"\"\"\n",
    "    mean = np.mean(expvals)\n",
    "    if stddevs is None:\n",
    "        return mean\n",
    "    stddev = np.sqrt(np.sum(stddevs ** 2))\n",
    "    return mean, stddev"
   ]
  },
  {
   "cell_type": "markdown",
   "metadata": {
    "slideshow": {
     "slide_type": "slide"
    }
   },
   "source": [
    "### Comuting stabilizer expectation values\n",
    "\n",
    "Next we compute the expectation values for the stabilizers from the result count data"
   ]
  },
  {
   "cell_type": "code",
   "execution_count": 29,
   "metadata": {},
   "outputs": [
    {
     "name": "stdout",
     "output_type": "stream",
     "text": [
      "F(direct) = 0.884 ± 0.058\n"
     ]
    }
   ],
   "source": [
    "# Compute stabilizer expectation values from data\n",
    "expvals, stddevs = stabilizer_expvals(result_stab, stabilizers)\n",
    "F_stab, F_stddev = stabilizer_fidelity(expvals, stddevs)\n",
    "\n",
    "print('F(direct) = {:.3f} \\u00B1 {:.3f}'.format(F_stab, F_stddev))"
   ]
  },
  {
   "cell_type": "markdown",
   "metadata": {
    "slideshow": {
     "slide_type": "slide"
    }
   },
   "source": [
    "Applying mitigation improves our fidelity estimate"
   ]
  },
  {
   "cell_type": "code",
   "execution_count": 30,
   "metadata": {},
   "outputs": [
    {
     "name": "stdout",
     "output_type": "stream",
     "text": [
      "F(mitigated) = 0.950 ± 0.063\n"
     ]
    }
   ],
   "source": [
    "# Compute stabilizer expectation values from data\n",
    "expvals_mit, stddevs_mit = stabilizer_expvals(result_stab, stabilizers,\n",
    "                                      meas_mitigator=mitigator)\n",
    "F_stab_mit, F_stddev_mit = stabilizer_fidelity(expvals_mit, stddevs_mit)\n",
    "\n",
    "print('F(mitigated) = {:.3f} \\u00B1 {:.3f}'.format(F_stab_mit, F_stddev_mit))"
   ]
  },
  {
   "cell_type": "code",
   "execution_count": 31,
   "metadata": {
    "slideshow": {
     "slide_type": "skip"
    }
   },
   "outputs": [
    {
     "data": {
      "text/html": [
       "<h3>Version Information</h3><table><tr><th>Qiskit Software</th><th>Version</th></tr><tr><td>Qiskit</td><td>None</td></tr><tr><td>Terra</td><td>0.16.0</td></tr><tr><td>Aer</td><td>0.7.0</td></tr><tr><td>Ignis</td><td>0.5.0</td></tr><tr><td>Aqua</td><td>0.7.5</td></tr><tr><td>IBM Q Provider</td><td>0.10.0</td></tr><tr><th>System information</th></tr><tr><td>Python</td><td>3.7.7 (default, May  6 2020, 04:59:01) \n",
       "[Clang 4.0.1 (tags/RELEASE_401/final)]</td></tr><tr><td>OS</td><td>Darwin</td></tr><tr><td>CPUs</td><td>6</td></tr><tr><td>Memory (Gb)</td><td>32.0</td></tr><tr><td colspan='2'>Fri Oct 16 12:07:55 2020 EDT</td></tr></table>"
      ],
      "text/plain": [
       "<IPython.core.display.HTML object>"
      ]
     },
     "metadata": {},
     "output_type": "display_data"
    }
   ],
   "source": [
    "import qiskit.tools.jupyter\n",
    "%qiskit_version_table"
   ]
  }
 ],
 "metadata": {
  "celltoolbar": "Slideshow",
  "kernelspec": {
   "display_name": "Python [conda env:qiskit]",
   "language": "python",
   "name": "conda-env-qiskit-py"
  },
  "language_info": {
   "codemirror_mode": {
    "name": "ipython",
    "version": 3
   },
   "file_extension": ".py",
   "mimetype": "text/x-python",
   "name": "python",
   "nbconvert_exporter": "python",
   "pygments_lexer": "ipython3",
   "version": "3.7.7"
  }
 },
 "nbformat": 4,
 "nbformat_minor": 4
}
